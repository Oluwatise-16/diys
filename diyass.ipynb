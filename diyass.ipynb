{
 "cells": [
  {
   "cell_type": "markdown",
   "id": "10a7a055",
   "metadata": {},
   "source": [
    "# Ayopo-Somefun Oluwatise Taiwo\n",
    "# EEG/2019/027\n",
    "# DIY 1"
   ]
  },
  {
   "cell_type": "code",
   "execution_count": 1,
   "id": "f9422623",
   "metadata": {},
   "outputs": [],
   "source": [
    "## Trying to see how powerful the enumerative method is by testing how large a number i could be before a pause in\n",
    "## printing can be noticed"
   ]
  },
  {
   "cell_type": "code",
   "execution_count": 2,
   "id": "da4f3f42",
   "metadata": {},
   "outputs": [
    {
     "name": "stdout",
     "output_type": "stream",
     "text": [
      "Enter a positive integer: 10000000\n",
      "10000000\n"
     ]
    }
   ],
   "source": [
    "max_val = int(input(\"Enter a positive integer: \"))\n",
    "i = 0 \n",
    "while i < max_val:\n",
    "    i = i + 1\n",
    "print(i)    "
   ]
  },
  {
   "cell_type": "code",
   "execution_count": 6,
   "id": "354ce6ef",
   "metadata": {},
   "outputs": [
    {
     "name": "stdout",
     "output_type": "stream",
     "text": [
      "Enter a positive integer: 10000000\n",
      "10000000\n",
      "Time taken:  1.2475097179412842 seconds\n"
     ]
    }
   ],
   "source": [
    "import time\n",
    "\n",
    "max_val = int(input(\"Enter a positive integer: \"))\n",
    "i = 0 \n",
    "\n",
    "start_time = time.time()  # Start measuring time\n",
    "\n",
    "while i < max_val:\n",
    "    i = i + 1\n",
    "\n",
    "end_time = time.time()  # Stop measuring time\n",
    "\n",
    "print(i)\n",
    "print(\"Time taken: \", end_time - start_time, \"seconds\")"
   ]
  },
  {
   "cell_type": "markdown",
   "id": "faa54ef8",
   "metadata": {},
   "source": [
    "# DIY 2"
   ]
  },
  {
   "cell_type": "code",
   "execution_count": 14,
   "id": "0b650794",
   "metadata": {},
   "outputs": [
    {
     "name": "stdout",
     "output_type": "stream",
     "text": [
      "Enter an integer greater than 2: 999999937\n",
      "999999937 is a prime number\n"
     ]
    }
   ],
   "source": [
    "## Test if an int > 2 is prime .If not, print smallest divisor\n",
    "x = int(input(\"Enter an integer greater than 2: \"))\n",
    "smallest_divisor = None\n",
    "for guess in range(2, x):\n",
    "    if x % guess == 0:\n",
    "        smallest_divisor = guess\n",
    "        largest_divisor = x / smallest_divisor\n",
    "        break\n",
    "if smallest_divisor != None:\n",
    "    print(\"Largest divisor of\" , x, \"is\", int(largest_divisor))\n",
    "else:\n",
    "    print(x, \"is a prime number\")"
   ]
  },
  {
   "cell_type": "markdown",
   "id": "351a150d",
   "metadata": {},
   "source": [
    "# DIY 3"
   ]
  },
  {
   "cell_type": "code",
   "execution_count": 26,
   "id": "5c340080",
   "metadata": {},
   "outputs": [
    {
     "name": "stdout",
     "output_type": "stream",
     "text": [
      "76125\n"
     ]
    }
   ],
   "source": [
    "def prime(n):\n",
    "    if n < 2:\n",
    "        return False\n",
    "    for i in range(2, int(n**0.5) + 1):\n",
    "        if n % i == 0:\n",
    "            return False\n",
    "    return True\n",
    "\n",
    "prime_add = 0\n",
    "for i in range(3, 1000, 2):\n",
    "    if prime(i):\n",
    "        prime_add += i\n",
    "\n",
    "print(prime_add)"
   ]
  },
  {
   "cell_type": "markdown",
   "id": "5b297269",
   "metadata": {},
   "source": [
    "# DIY 4"
   ]
  },
  {
   "cell_type": "code",
   "execution_count": 28,
   "id": "24df5c3b",
   "metadata": {},
   "outputs": [
    {
     "ename": "IndentationError",
     "evalue": "unindent does not match any outer indentation level (<tokenize>, line 21)",
     "output_type": "error",
     "traceback": [
      "\u001b[1;36m  File \u001b[1;32m<tokenize>:21\u001b[1;36m\u001b[0m\n\u001b[1;33m    1   2   3   4\u001b[0m\n\u001b[1;37m    ^\u001b[0m\n\u001b[1;31mIndentationError\u001b[0m\u001b[1;31m:\u001b[0m unindent does not match any outer indentation level\n"
     ]
    }
   ],
   "source": []
  },
  {
   "cell_type": "markdown",
   "id": "cfcc5fd5",
   "metadata": {},
   "source": [
    "# DIY 5"
   ]
  },
  {
   "cell_type": "code",
   "execution_count": 11,
   "id": "6e8d36a2",
   "metadata": {},
   "outputs": [
    {
     "name": "stdout",
     "output_type": "stream",
     "text": [
      "Enter the first number: 4\n",
      "Enter the second number: 5\n",
      "4 multiplied by 5 gives 20\n"
     ]
    }
   ],
   "source": [
    "import math\n",
    "\n",
    "first_number = int(input(\"Enter the first number: \"))\n",
    "second_number = int(input(\"Enter the second number: \"))\n",
    "\n",
    "log_1 = math.log(first_number, 10)\n",
    "log_2 = math.log(second_number, 10)\n",
    "\n",
    "sum = log_1 + log_2\n",
    "\n",
    "answer = round(10 ** sum)\n",
    "\n",
    "print(str(first_number) + \" multiplied by \" + str(second_number) + \" gives \" + str(answer))"
   ]
  },
  {
   "cell_type": "markdown",
   "id": "d0059f95",
   "metadata": {},
   "source": [
    "# DIY 6"
   ]
  },
  {
   "cell_type": "code",
   "execution_count": 12,
   "id": "684a557d",
   "metadata": {},
   "outputs": [
    {
     "name": "stdout",
     "output_type": "stream",
     "text": [
      "Enter the value of gain: 50\n",
      "The gain is 50.0, which is equivalent to 150.51 dB.\n"
     ]
    }
   ],
   "source": [
    "import math\n",
    "\n",
    "epsilon = 0.01\n",
    "gain = float(input(\"Enter the value of gain: \"))\n",
    "x = 2 ** gain\n",
    "\n",
    "# Find lower bound on ans\n",
    "lower_bound = 0\n",
    "while 2 ** lower_bound < x:\n",
    "    lower_bound += 1\n",
    "low = lower_bound - 1\n",
    "high = lower_bound + 1\n",
    "\n",
    "# Perform bisection research\n",
    "ans = (high + low) / 2\n",
    "while abs(2 ** ans - x) >= epsilon:\n",
    "    if 2 ** ans < x:\n",
    "        low = ans\n",
    "    else:\n",
    "        high = ans\n",
    "    ans = (high + low) / 2\n",
    "\n",
    "# Convert ans to dB\n",
    "dB = 10 * math.log10(x)\n",
    "\n",
    "print(f\"The gain is {gain}, which is equivalent to {dB:.2f} dB.\")\n"
   ]
  },
  {
   "cell_type": "code",
   "execution_count": null,
   "id": "728c3c57",
   "metadata": {},
   "outputs": [],
   "source": []
  }
 ],
 "metadata": {
  "kernelspec": {
   "display_name": "Python 3 (ipykernel)",
   "language": "python",
   "name": "python3"
  },
  "language_info": {
   "codemirror_mode": {
    "name": "ipython",
    "version": 3
   },
   "file_extension": ".py",
   "mimetype": "text/x-python",
   "name": "python",
   "nbconvert_exporter": "python",
   "pygments_lexer": "ipython3",
   "version": "3.9.13"
  }
 },
 "nbformat": 4,
 "nbformat_minor": 5
}
